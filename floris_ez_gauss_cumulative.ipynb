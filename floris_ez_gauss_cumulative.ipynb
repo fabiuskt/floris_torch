{
 "cells": [
  {
   "cell_type": "markdown",
   "id": "669ef9ce",
   "metadata": {},
   "source": [
    "### Based on \n",
    "https://github.com/bayc/floris/blob/feature/vectorize/examples/_getting_started/floriz_ez_gauss_cumulative.py"
   ]
  },
  {
   "cell_type": "code",
   "execution_count": 1,
   "id": "6e5d2757",
   "metadata": {},
   "outputs": [],
   "source": [
    "import time\n",
    "import numpy as np\n",
    "from numpy import newaxis as na\n",
    "import scipy as sp\n",
    "from scipy.interpolate import interp1d\n",
    "from scipy.special import gamma\n",
    "import matplotlib.pyplot as plt\n",
    "from floris_ez_gauss_cumulative import initialize_flow_field, turbine_avg_velocity, \\\n",
    "    Ct, aI, gauss_defl_model, gauss_cumulative_vel_model, calculate_area_overlap, crespo_hernandez, cosd"
   ]
  },
  {
   "cell_type": "code",
   "execution_count": 2,
   "id": "c30b3e7e",
   "metadata": {},
   "outputs": [],
   "source": [
    "# init turbine\n",
    "thrust = [.99, .99, 0.97373036, 0.92826162,\n",
    "          0.89210543, 0.86100905, 0.835423, 0.81237673, 0.79225789, 0.77584769,\n",
    "          0.7629228, 0.76156073, 0.76261984, 0.76169723, 0.75232027, 0.74026851,\n",
    "          0.72987175, 0.70701647, 0.54054532, 0.45509459, 0.39343381, 0.34250785,\n",
    "          0.30487242, 0.27164979, 0.24361964, 0.21973831, 0.19918151, 0.18131868,\n",
    "          0.16537679, 0.15103727, 0.13998636, 0.1289037, 0.11970413, 0.11087113,\n",
    "          0.10339901, 0.09617888, 0.09009926, 0.08395078, 0.0791188, 0.07448356,\n",
    "          0.07050731, 0.06684119, 0.06345518, 0.06032267, 0.05741999, 0.05472609]\n",
    "\n",
    "wind_speed = [3.0, 3.5, 4.0, 4.5, 5.0,5.5, 6.0, 6.5, 7.0, 7.5, 8.0, 8.5,\n",
    "              9.0, 9.5, 10.0, 10.5, 11.0, 11.5, 12.0, 12.5, 13.0, 13.5, 14.0, 14.5, \n",
    "              15.0, 15.5, 16.0, 16.5, 17.0, 17.5, 18.0, 18.5, 19.0, 19.5, 20.0, 20.5, \n",
    "              21.0, 21.5, 22.0, 22.5, 23.0, 23.5, 24.0, 24.5, 25.0, 25.5]\n",
    "\n",
    "air_density = 1.225 # same as `examples/inputs/gch.yaml`\n",
    "\n",
    "power = [.178085, 0.289075, 0.349022, 0.384728, \n",
    "         0.406059, 0.420228, 0.428823, 0.433873, 0.436223, 0.436845, 0.436575, \n",
    "         0.436511, 0.436561, 0.436517, 0.435903, 0.434673, 0.433230, 0.430466, \n",
    "         0.378869, 0.335199, 0.297991, 0.266092, 0.238588, 0.214748, 0.193981,\n",
    "         0.175808, 0.159835, 0.145741, 0.133256, 0.122157, 0.112257, 0.103399,\n",
    "         0.095449, 0.088294, 0.081836, 0.075993, 0.070692, 0.065875, 0.061484,\n",
    "         0.057476, 0.053809, 0.050447, 0.047358, 0.044518, 0.041900, 0.039483]\n",
    "\n",
    "generator_efficiency = 1.0\n",
    "turbine_hub_height = 90.0\n",
    "pP = 1.88\n",
    "turbine_diameter = 126.0\n",
    "TSR = 8.0\n",
    "\n",
    "turbine_radius = turbine_diameter / 2.0\n",
    "\n",
    "\n",
    "x_spc = 5 * 126.0\n",
    "nturbs = 4\n",
    "x_coord = np.array([0., 0., 6.*turbine_diameter, 6.*turbine_diameter])\n",
    "y_coord = np.array([0., 3.*turbine_diameter, 0., 3.*turbine_diameter])\n",
    "z_coord = np.array([90.0] * len(x_coord))\n",
    "\n",
    "y_ngrid = 3\n",
    "z_ngrid = 3\n",
    "\n",
    "# Wind parameters\n",
    "ws = np.array([8.0])\n",
    "wd = np.array([280.0])\n",
    "# i  j  k  l  m\n",
    "# wd ws x  y  z\n",
    "\n",
    "specified_wind_height = 90.0\n",
    "wind_shear = 0.12\n",
    "wind_veer = 0.0\n",
    "TI = 0.06"
   ]
  },
  {
   "cell_type": "code",
   "execution_count": 3,
   "id": "dd91b128",
   "metadata": {},
   "outputs": [
    {
     "data": {
      "text/plain": [
       "array([  0.,   0., 756., 756.])"
      ]
     },
     "execution_count": 3,
     "metadata": {},
     "output_type": "execute_result"
    }
   ],
   "source": [
    "x_coord"
   ]
  },
  {
   "cell_type": "code",
   "execution_count": 4,
   "id": "51d26233",
   "metadata": {
    "scrolled": false
   },
   "outputs": [
    {
     "name": "stdout",
     "output_type": "stream",
     "text": [
      "Computed wake deficits in 0.0047 seconds\n",
      "avg flow_field u value:  5.522398098306468\n"
     ]
    }
   ],
   "source": [
    "# Initialize field values\n",
    "(flow_field_u_initial, flow_field_v_initial, flow_field_w_initial,\n",
    " mesh_x_rotated, mesh_y_rotated, mesh_z,\n",
    " x_coord_rotated, y_coord_rotated, z_coord_rotated,\n",
    " inds_sorted, inds_unsorted) = initialize_flow_field(\n",
    "    x_coord, y_coord, z_coord, y_ngrid, z_ngrid,\n",
    "    wd,ws, specified_wind_height, wind_shear )\n",
    "\n",
    "# Initialize other field values\n",
    "u_wake = np.zeros(np.shape(flow_field_u_initial))\n",
    "flow_field_u = flow_field_u_initial - u_wake\n",
    "flow_field_v = flow_field_v_initial\n",
    "flow_field_w = flow_field_w_initial\n",
    "turb_inflow_field = np.ones(np.shape(flow_field_u_initial)) * flow_field_u_initial\n",
    "turb_u_wake = np.zeros_like(flow_field_u_initial)\n",
    "\n",
    "# Initialize turbine values\n",
    "turb_TIs = np.ones_like(x_coord_rotated) * TI\n",
    "ambient_TIs = np.ones_like(x_coord_rotated) * TI\n",
    "yaw_angle = np.ones_like(x_coord_rotated) * 0.0\n",
    "turbine_tilt = np.ones_like(x_coord_rotated) * 0.0\n",
    "turbine_TSR = np.ones_like(x_coord_rotated) * TSR\n",
    "\n",
    "tic = time.perf_counter()\n",
    "\n",
    "# Loop over turbines to solve wakes\n",
    "Ctmp = np.zeros((len(x_coord), 1, len(wd), len(ws), len(x_coord), y_ngrid, z_ngrid))\n",
    "sigma_i = np.zeros((len(x_coord), 1, len(wd), len(ws), len(x_coord), y_ngrid, z_ngrid))\n",
    "for i in range(len(x_coord)):\n",
    "    mask1 = np.array(\n",
    "        mesh_x_rotated != x_coord_rotated[:, :, :, i, :, :][:, :, :, na, :, :]\n",
    "    )\n",
    "    mask2 = np.array(\n",
    "        mesh_x_rotated == x_coord_rotated[:, :, :, i, :, :][:, :, :, na, :, :]\n",
    "    )\n",
    "    turb_inflow_field = (\n",
    "        turb_inflow_field * mask1 + (flow_field_u_initial - turb_u_wake) * mask2\n",
    "    )\n",
    "\n",
    "    turb_avg_vels = turbine_avg_velocity(turb_inflow_field)\n",
    "    turb_Cts = Ct(turb_avg_vels, wind_speed, thrust)\n",
    "    turb_aIs = aI(turb_Cts, np.squeeze(yaw_angle, axis=(4, 5)))\n",
    "\n",
    "    # Secondary steering calculation\n",
    "    # yaw = -1 * calculate_effective_yaw_angle(\n",
    "    #     mesh_y_rotated[:, :, :, i, :, :][:, :, :, na, :, :],\n",
    "    #     mesh_z[:, :, :, i, :, :][:, :, :, na, :, :],\n",
    "    #     y_coord_rotated[:, :, :, i, :, :][:, :, :, na, :, :],\n",
    "    #     turb_avg_vels[:, :, :, i][:, :, :, na, na, na],\n",
    "    #     turb_Cts[:, :, :, i][:, :, :, na, na, na],\n",
    "    #     turb_aIs[:, :, :, i][:, :, :, na, na, na],\n",
    "    #     turbine_TSR[:, :, :, i, :, :][:, :, :, na, :, :],\n",
    "    #     yaw_angle,\n",
    "    #     turbine_hub_height,\n",
    "    #     turbine_diameter,\n",
    "    #     specified_wind_height,\n",
    "    #     wind_shear,\n",
    "    #     flow_field_v[:, :, :, i, :, :][:, :, :, na, :, :],\n",
    "    #     flow_field_u_initial,\n",
    "    # )\n",
    "\n",
    "    # Wake deflection calculation\n",
    "    deflection_field = gauss_defl_model(\n",
    "        mesh_x_rotated,\n",
    "        mesh_y_rotated,\n",
    "        x_coord_rotated[:, :, :, i, :, :][:, :, :, na, :, :],\n",
    "        y_coord_rotated[:, :, :, i, :, :][:, :, :, na, :, :],\n",
    "        flow_field_u_initial,\n",
    "        wind_veer,\n",
    "        turb_TIs[:, :, :, i, :, :][:, :, :, na, :, :],\n",
    "        turb_Cts[:, :, :, i][:, :, :, na, na, na],\n",
    "        yaw_angle[:, :, :, i, :, :][:, :, :, na, :, :],\n",
    "        turbine_tilt,\n",
    "        turbine_diameter,\n",
    "    )\n",
    "\n",
    "    # Determine V and W wind components\n",
    "    # turb_v_wake, turb_w_wake = calc_VW(\n",
    "    #     x_coord_rotated[:, :, :, i, :, :][:, :, :, na, :, :],\n",
    "    #     y_coord_rotated[:, :, :, i, :, :][:, :, :, na, :, :],\n",
    "    #     wind_shear,\n",
    "    #     specified_wind_height,\n",
    "    #     turb_avg_vels[:, :, :, i][:, :, :, na, na, na],\n",
    "    #     turb_Cts[:, :, :, i][:, :, :, na, na, na],\n",
    "    #     turb_aIs[:, :, :, i][:, :, :, na, na, na],\n",
    "    #     turbine_TSR[:, :, :, i, :, :][:, :, :, na, :, :],\n",
    "    #     yaw_angle,\n",
    "    #     turbine_hub_height,\n",
    "    #     turbine_diameter,\n",
    "    #     flow_field_u_initial,\n",
    "    #     mesh_x_rotated,\n",
    "    #     mesh_y_rotated,\n",
    "    #     mesh_z,\n",
    "    # )\n",
    "\n",
    "    # Yaw-added wake recovery (YAR) calculation\n",
    "    # TI_mixing = yaw_added_turbulence_mixing(\n",
    "    #     turb_avg_vels[:, :, :, i][:, :, :, na, na, na],\n",
    "    #     turb_TIs[:, :, :, i, :, :][:, :, :, na, :, :],\n",
    "    #     flow_field_v[:, :, :, i, :, :][:, :, :, na, :, :],\n",
    "    #     flow_field_w[:, :, :, i, :, :][:, :, :, na, :, :],\n",
    "    #     turb_v_wake[:, :, :, i, :, :][:, :, :, na, :, :],\n",
    "    #     turb_w_wake[:, :, :, i, :, :][:, :, :, na, :, :],\n",
    "    # )\n",
    "\n",
    "    # # Modify turbine TIs based on YAR\n",
    "    # gch_gain = 2\n",
    "    # mask1 = np.array(\n",
    "    #     x_coord_rotated == x_coord_rotated[:, :, :, i, :, :][:, :, :, na, :, :]\n",
    "    # )\n",
    "    # turb_TIs = turb_TIs + gch_gain * TI_mixing * mask1\n",
    "\n",
    "    # Calculate wake deficits\n",
    "    turb_u_wake, turb_v_wake, turb_w_wake, Ctmp, sigma_i = gauss_cumulative_vel_model(\n",
    "        wind_veer, flow_field_u_initial, turb_avg_vels, turb_TIs, turb_Cts, yaw_angle,\n",
    "        turbine_hub_height, turbine_diameter, mesh_x_rotated, mesh_y_rotated, mesh_z,\n",
    "        x_coord_rotated, y_coord_rotated, z_coord_rotated,\n",
    "        deflection_field, i, turb_u_wake, Ctmp, sigma_i)\n",
    "\n",
    "    # turb_u_wake = np.zeros_like(flow_field_u_initial)\n",
    "    turb_v_wake = np.zeros_like(turb_u_wake)\n",
    "    turb_w_wake = np.zeros_like(turb_u_wake)\n",
    "\n",
    "    # Perform wake/field combinations\n",
    "    # u_wake = np.sqrt((u_wake ** 2) + (np.array(turb_u_wake) ** 2))\n",
    "    # flow_field_u = flow_field_u_initial - u_wake\n",
    "    flow_field_v = flow_field_v + turb_v_wake\n",
    "    flow_field_w = flow_field_w + turb_w_wake\n",
    "\n",
    "    # Calculate wake overlap for wake-added turbulence (WAT)\n",
    "    turb_wake_field = flow_field_u_initial - turb_u_wake\n",
    "    area_overlap = calculate_area_overlap(\n",
    "        turb_wake_field, flow_field_u_initial, y_ngrid, z_ngrid\n",
    "    )\n",
    "\n",
    "    # Calculate WAT for turbines\n",
    "    WAT_TIs = crespo_hernandez(\n",
    "        ambient_TIs,\n",
    "        x_coord_rotated,\n",
    "        x_coord_rotated[:, :, :, i, :, :][:, :, :, na, :, :],\n",
    "        turbine_diameter,\n",
    "        turb_aIs[:, :, :, i][:, :, :, na, na, na],\n",
    "    )\n",
    "\n",
    "    # Modify WAT by wake area overlap\n",
    "    # TODO: will need to make the rotor_diameter part of this mask work for\n",
    "    # turbines of different types\n",
    "    downstream_influence_length = 15 * turbine_diameter\n",
    "    ti_added = (\n",
    "        area_overlap[:, :, :, :, na, na]\n",
    "        * np.nan_to_num(WAT_TIs, posinf=0.0)\n",
    "        * (np.array(x_coord_rotated > x_coord_rotated[:, :, :, i, :, :][:, :, :, na, :, :]))\n",
    "        * (np.array(np.abs(y_coord_rotated[:, :, :, i, :, :][:, :, :, na, :, :]\n",
    "                    - y_coord_rotated) < 2 * turbine_diameter))\n",
    "        * (np.array(x_coord_rotated <= downstream_influence_length\n",
    "                    + x_coord_rotated[:, :, :, i, :, :][:, :, :, na, :, :])))\n",
    "\n",
    "    # Combine turbine TIs with WAT\n",
    "    turb_TIs = np.maximum(np.sqrt(ti_added ** 2 + ambient_TIs ** 2), turb_TIs)\n",
    "\n",
    "flow_field_u = flow_field_u_initial - turb_u_wake\n",
    "\n",
    "toc = time.perf_counter()\n",
    "print(f\"Computed wake deficits in {toc - tic:0.4f} seconds\")\n",
    "print(\"avg flow_field u value: \", np.mean(flow_field_u))"
   ]
  },
  {
   "cell_type": "code",
   "execution_count": 5,
   "id": "476c7629",
   "metadata": {},
   "outputs": [],
   "source": [
    "import matplotlib.colors as mplcolors"
   ]
  },
  {
   "cell_type": "code",
   "execution_count": 6,
   "id": "efcd9f21",
   "metadata": {
    "scrolled": false
   },
   "outputs": [
    {
     "data": {
      "image/png": "[encoded data removed]",
      "text/plain": [
       "<Figure size 432x288 with 2 Axes>"
      ]
     },
     "metadata": {
      "needs_background": "light"
     },
     "output_type": "display_data"
    },
    {
     "data": {
      "image/png": "[encoded data removed]",
      "text/plain": [
       "<Figure size 432x288 with 2 Axes>"
      ]
     },
     "metadata": {
      "needs_background": "light"
     },
     "output_type": "display_data"
    },
    {
     "data": {
      "image/png": "[encoded data removed]",
      "text/plain": [
       "<Figure size 432x288 with 2 Axes>"
      ]
     },
     "metadata": {
      "needs_background": "light"
     },
     "output_type": "display_data"
    },
    {
     "data": {
      "image/png": "[encoded data removed]",
      "text/plain": [
       "<Figure size 432x288 with 2 Axes>"
      ]
     },
     "metadata": {
      "needs_background": "light"
     },
     "output_type": "display_data"
    }
   ],
   "source": [
    "# show field at OP on each rotor disk\n",
    "\n",
    "for t in range(nturbs):\n",
    "    norm = mplcolors.Normalize(7.55, 8.25)\n",
    "    cmap = plt.cm.get_cmap(name=\"coolwarm\")\n",
    "    plt.imshow(np.squeeze(flow_field_u[:,:,:,t,:,:]), cmap=cmap, norm=norm)\n",
    "    plt.imshow(np.squeeze(flow_field_u[:,:,:,t,:,:]), cmap=cmap)\n",
    "    ax = plt.gca()\n",
    "    ax.invert_xaxis()\n",
    "    plt.colorbar()\n",
    "    plt.show()"
   ]
  },
  {
   "cell_type": "code",
   "execution_count": null,
   "id": "a34de996",
   "metadata": {},
   "outputs": [],
   "source": [
    "# power calculation (based on main floris branch)\n",
    "fCp_interp = interp1d(wind_speed, power, fill_value=(0.0, 1.0), bounds_error=False)\n",
    "rotor_area = np.pi * turbine_radius ** 2.0\n",
    "inner_power = 0.5*rotor_area*fCp_interp(wind_speed)*generator_efficiency*np.array(wind_speed)**3\n",
    "power_interp = interp1d(wind_speed, inner_power)\n",
    "# omiting some lines here b/c assuming all turbines have same type\n",
    "\n",
    "# ix_filter not implemented\n",
    "\n",
    "# Compute the yaw effective velocity\n",
    "pPs = np.ones_like(x_coord_rotated) * 1.88 # `turbine_library/nrel_5MW.yaml`\n",
    "pW = pPs / 3.0  # Convert from pP to w\n",
    "axis = tuple([3 + i for i in range(flow_field_u.ndim - 3)])\n",
    "average_velocity = np.cbrt(np.mean(flow_field_u ** 3, axis=axis))\n",
    "yaw_effective_velocity = ((air_density/1.225)**(1/3)) * average_velocity * cosd(yaw_angle) ** pW\n",
    "\n",
    "# Power produced by a turbine adjusted for yaw and tilt. Value given in kW\n",
    "p = 1.225 * power_interp(yaw_effective_velocity) / 1000.0 \n",
    "\n",
    "# power for each turbine, total power\n",
    "np.squeeze(p), np.sum(p)"
   ]
  },
  {
   "cell_type": "code",
   "execution_count": null,
   "id": "06182a7a",
   "metadata": {},
   "outputs": [],
   "source": [
    "# TO DO (looks involved): hub-height velocity field calculation"
   ]
  },
  {
   "cell_type": "code",
   "execution_count": null,
   "id": "945dde5e",
   "metadata": {},
   "outputs": [],
   "source": []
  }
 ],
 "metadata": {
  "kernelspec": {
   "display_name": "Python 3 (ipykernel)",
   "language": "python",
   "name": "python3"
  },
  "language_info": {
   "codemirror_mode": {
    "name": "ipython",
    "version": 3
   },
   "file_extension": ".py",
   "mimetype": "text/x-python",
   "name": "python",
   "nbconvert_exporter": "python",
   "pygments_lexer": "ipython3",
   "version": "3.10.5"
  }
 },
 "nbformat": 4,
 "nbformat_minor": 5
}
