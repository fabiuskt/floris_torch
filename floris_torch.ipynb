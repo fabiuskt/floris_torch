{
 "cells": [
  {
   "cell_type": "code",
   "execution_count": 1,
   "id": "4ca47f9b",
   "metadata": {},
   "outputs": [],
   "source": [
    "import numpy as np\n",
    "import torch\n",
    "import torch.nn.functional as F\n",
    "from torch import nn"
   ]
  },
  {
   "cell_type": "markdown",
   "id": "987069ad",
   "metadata": {},
   "source": [
    "## init"
   ]
  },
  {
   "cell_type": "code",
   "execution_count": 2,
   "id": "ec72cb29",
   "metadata": {},
   "outputs": [],
   "source": [
    "# this implementation will be specific \n",
    "# to a given wind farm layout\n",
    "# otherwise wouldn't know input size\n",
    "# b/c input size depends on turbine locations\n",
    "# akin to how building model only applies to 5-zone building\n",
    "\n",
    "# here: 2x2 wind turbine layout\n",
    "\n",
    "class DPCModel(nn.Module):\n",
    "    def __init__(\n",
    "        self,\n",
    "        n_turbines: int,\n",
    "        hidden_dim: int = 64,\n",
    "        **kwargs\n",
    "    ):\n",
    "        super().__init__()\n",
    "        input_size = 2 # ws, wd\n",
    "        self.input_layer = nn.Linear(input_size, hidden_dim)\n",
    "        self.hidden_layer = nn.Linear(hidden_dim, hidden_dim)\n",
    "        self.output_layer = nn.Linear(hidden_dim, n_turbines)\n",
    "        \n",
    "    def forward(self, x):\n",
    "        # x: state of system = torch.tensor([ws, wd])\n",
    "        # u: control action (yaw angle for each turbine)\n",
    "        u = F.relu(self.input_layer(x))\n",
    "        u = F.relu(self.hidden_layer(u))\n",
    "        u = torch.sigmoid(self.output_layer(u))\n",
    "        return u"
   ]
  },
  {
   "cell_type": "code",
   "execution_count": 3,
   "id": "d0f5ff8a",
   "metadata": {},
   "outputs": [
    {
     "data": {
      "text/plain": [
       "DPCModel(\n",
       "  (input_layer): Linear(in_features=2, out_features=64, bias=True)\n",
       "  (hidden_layer): Linear(in_features=64, out_features=64, bias=True)\n",
       "  (output_layer): Linear(in_features=64, out_features=4, bias=True)\n",
       ")"
      ]
     },
     "execution_count": 3,
     "metadata": {},
     "output_type": "execute_result"
    }
   ],
   "source": [
    "# init test case\n",
    "umin = torch.tensor([0.]) # min allowed yaw angle (degrees)\n",
    "umax = torch.tensor([45.]) # max allowed yaw angle (degrees)\n",
    "model_config = dict({\"n_turbines\": 4, \"hidden_dim\": 64})\n",
    "\n",
    "# init DPC model\n",
    "model = DPCModel(**model_config)\n",
    "model"
   ]
  },
  {
   "cell_type": "code",
   "execution_count": 4,
   "id": "ad57b51a",
   "metadata": {},
   "outputs": [],
   "source": [
    "# hyperparameters -> to do: hyperparameter training\n",
    "u_penalty = 1.\n",
    "lr = .1\n",
    "\n",
    "# init training\n",
    "opt = torch.optim.Adam(model.parameters(), lr=lr)"
   ]
  },
  {
   "cell_type": "markdown",
   "id": "2b43d533",
   "metadata": {},
   "source": [
    "## forward pass"
   ]
  },
  {
   "cell_type": "code",
   "execution_count": 5,
   "id": "64660e36",
   "metadata": {},
   "outputs": [
    {
     "data": {
      "text/plain": [
       "tensor([0.4293, 0.4529, 0.7020, 0.3437], grad_fn=<AddBackward0>)"
      ]
     },
     "execution_count": 5,
     "metadata": {},
     "output_type": "execute_result"
    }
   ],
   "source": [
    "# training data\n",
    "ws = 5.\n",
    "wd = 10.\n",
    "\n",
    "# forward pass\n",
    "x = torch.tensor([ws, wd])\n",
    "u = model(x)\n",
    "clipped_u = F.relu(u-umin) + umin\n",
    "clipped_u = -F.relu(-clipped_u + umax) + umax\n",
    "clipped_u"
   ]
  },
  {
   "cell_type": "markdown",
   "id": "9b4e8e58",
   "metadata": {},
   "source": [
    "## backward pass : to do"
   ]
  },
  {
   "cell_type": "code",
   "execution_count": 6,
   "id": "f07ac2d6",
   "metadata": {},
   "outputs": [],
   "source": [
    "# TO DO: cost from power\n",
    "# negative sign b/c good -> want to minimize\n",
    "power_cost = torch.tensor([0.])"
   ]
  },
  {
   "cell_type": "code",
   "execution_count": 39,
   "id": "684953d4",
   "metadata": {},
   "outputs": [
    {
     "data": {
      "text/plain": [
       "(5.0, 10.0, 4)"
      ]
     },
     "execution_count": 39,
     "metadata": {},
     "output_type": "execute_result"
    }
   ],
   "source": [
    "ws, wd, model_config[\"n_turbines\"]"
   ]
  },
  {
   "cell_type": "code",
   "execution_count": null,
   "id": "6ce4e477",
   "metadata": {},
   "outputs": [],
   "source": [
    "# init\n",
    "thrust = torch.tensor([1.19187945, 1.17284634, 1.09860817, 1.02889592, 0.97373036, 0.92826162,\n",
    "          0.89210543, 0.86100905, 0.835423, 0.81237673, 0.79225789, 0.77584769,\n",
    "          0.7629228, 0.76156073, 0.76261984, 0.76169723, 0.75232027, 0.74026851,\n",
    "          0.72987175, 0.70701647, 0.54054532, 0.45509459, 0.39343381, 0.34250785,\n",
    "          0.30487242, 0.27164979, 0.24361964, 0.21973831, 0.19918151, 0.18131868,\n",
    "          0.16537679, 0.15103727, 0.13998636, 0.1289037, 0.11970413, 0.11087113,\n",
    "          0.10339901, 0.09617888, 0.09009926, 0.08395078, 0.0791188, 0.07448356,\n",
    "          0.07050731, 0.06684119, 0.06345518, 0.06032267, 0.05741999, 0.05472609])\n",
    "\n",
    "wind_speed = torch.tensor([2.0, 2.5, 3.0, 3.5, 4.0, 4.5, 5.0,5.5, 6.0, 6.5, 7.0, 7.5, 8.0, 8.5,\n",
    "              9.0, 9.5, 10.0, 10.5, 11.0, 11.5, 12.0, 12.5, 13.0, 13.5, 14.0, 14.5, \n",
    "              15.0, 15.5, 16.0, 16.5, 17.0, 17.5, 18.0, 18.5, 19.0, 19.5, 20.0, 20.5, \n",
    "              21.0, 21.5, 22.0, 22.5, 23.0, 23.5, 24.0, 24.5, 25.0, 25.5])\n",
    "\n",
    "turbine_diameter = 126.0\n",
    "turbine_radius = turbine_diameter / 2.0\n",
    "turbine_hub_height = 90.0\n",
    "\n",
    "x_spc = 5 * 126.0\n",
    "nturbs = 20\n",
    "x_coord = np.array([xx * x_spc for xx in range(nturbs)])\n",
    "y_coord = np.array([0.0] * len(x_coord))\n",
    "z_coord = np.array([90.0] * len(x_coord))"
   ]
  },
  {
   "cell_type": "code",
   "execution_count": null,
   "id": "8a979d95",
   "metadata": {},
   "outputs": [],
   "source": []
  },
  {
   "cell_type": "markdown",
   "id": "d3ac0b72",
   "metadata": {},
   "source": [
    "## backward pass: done"
   ]
  },
  {
   "cell_type": "code",
   "execution_count": 7,
   "id": "635e77c9",
   "metadata": {},
   "outputs": [],
   "source": [
    "# cost from soft constraints (violating bounds on yaw angle)\n",
    "u_viol_lower = F.relu(umin - u)\n",
    "u_viol_upper = F.relu(u - umax)\n",
    "u_viol_cost = u_penalty * torch.sum(u_viol_lower.pow(2) + u_viol_upper.pow(2))\n",
    "u_viol_cost\n",
    "\n",
    "# total cost\n",
    "total_cost = u_viol_cost + power_cost\n",
    "total_cost\n",
    "\n",
    "# TO DO: sum over data in batch\n",
    "opt_loss = total_cost"
   ]
  },
  {
   "cell_type": "code",
   "execution_count": 8,
   "id": "f4339c10",
   "metadata": {},
   "outputs": [],
   "source": [
    "# backward pass\n",
    "opt.zero_grad()\n",
    "opt_loss.backward()\n",
    "opt.step()"
   ]
  },
  {
   "cell_type": "code",
   "execution_count": 35,
   "id": "efe96375",
   "metadata": {},
   "outputs": [],
   "source": [
    "# model.input_layer.weight, model.hidden_layer.weight, model.output_layer.weight, \\\n",
    "# model.input_layer.bias, model.hidden_layer.bias, model.output_layer.bias"
   ]
  },
  {
   "cell_type": "code",
   "execution_count": null,
   "id": "768ddbdb",
   "metadata": {},
   "outputs": [],
   "source": []
  },
  {
   "cell_type": "code",
   "execution_count": null,
   "id": "7fb69e60",
   "metadata": {},
   "outputs": [],
   "source": []
  }
 ],
 "metadata": {
  "kernelspec": {
   "display_name": "Python 3 (ipykernel)",
   "language": "python",
   "name": "python3"
  },
  "language_info": {
   "codemirror_mode": {
    "name": "ipython",
    "version": 3
   },
   "file_extension": ".py",
   "mimetype": "text/x-python",
   "name": "python",
   "nbconvert_exporter": "python",
   "pygments_lexer": "ipython3",
   "version": "3.10.5"
  }
 },
 "nbformat": 4,
 "nbformat_minor": 5
}
